{
  "nbformat": 4,
  "nbformat_minor": 0,
  "metadata": {
    "colab": {
      "provenance": [],
      "authorship_tag": "ABX9TyONxlGhsgw23cUlkK0RZS8b",
      "include_colab_link": true
    },
    "kernelspec": {
      "name": "python3",
      "display_name": "Python 3"
    },
    "language_info": {
      "name": "python"
    }
  },
  "cells": [
    {
      "cell_type": "markdown",
      "metadata": {
        "id": "view-in-github",
        "colab_type": "text"
      },
      "source": [
        "<a href=\"https://colab.research.google.com/github/2303a51849/ADM/blob/main/(Assignment-1).ipynb\" target=\"_parent\"><img src=\"https://colab.research.google.com/assets/colab-badge.svg\" alt=\"Open In Colab\"/></a>"
      ]
    },
    {
      "cell_type": "code",
      "source": [
        "import pandas as pd\n",
        "df=pd.read_csv('/content/diabetes.csv')\n",
        "print(df)"
      ],
      "metadata": {
        "colab": {
          "base_uri": "https://localhost:8080/"
        },
        "id": "W8NmGBviiHJC",
        "outputId": "e222bde9-1ce3-4db9-a69a-0efcf6b56280"
      },
      "execution_count": 18,
      "outputs": [
        {
          "output_type": "stream",
          "name": "stdout",
          "text": [
            "     Pregnancies  Glucose  BloodPressure  SkinThickness  Insulin   BMI  \\\n",
            "0              6      148             72             35        0  33.6   \n",
            "1              1       85             66             29        0  26.6   \n",
            "2              8      183             64              0        0  23.3   \n",
            "3              1       89             66             23       94  28.1   \n",
            "4              0      137             40             35      168  43.1   \n",
            "..           ...      ...            ...            ...      ...   ...   \n",
            "763           10      101             76             48      180  32.9   \n",
            "764            2      122             70             27        0  36.8   \n",
            "765            5      121             72             23      112  26.2   \n",
            "766            1      126             60              0        0  30.1   \n",
            "767            1       93             70             31        0  30.4   \n",
            "\n",
            "     DiabetesPedigreeFunction  Age  Outcome  \n",
            "0                       0.627   50        1  \n",
            "1                       0.351   31        0  \n",
            "2                       0.672   32        1  \n",
            "3                       0.167   21        0  \n",
            "4                       2.288   33        1  \n",
            "..                        ...  ...      ...  \n",
            "763                     0.171   63        0  \n",
            "764                     0.340   27        0  \n",
            "765                     0.245   30        0  \n",
            "766                     0.349   47        1  \n",
            "767                     0.315   23        0  \n",
            "\n",
            "[768 rows x 9 columns]\n"
          ]
        }
      ]
    },
    {
      "cell_type": "code",
      "source": [
        "columns_with_zeros = ['Glucose', 'BloodPressure', 'SkinThickness']\n",
        "df[columns_with_zeros] = df[columns_with_zeros].replace(0, pd.NA)"
      ],
      "metadata": {
        "id": "0RHcfIbZsCmp"
      },
      "execution_count": 19,
      "outputs": []
    },
    {
      "cell_type": "code",
      "source": [
        "imputation_method = 'mean'  # Options: 'mean', 'median', 'mode'\n",
        "for col in df.columns:\n",
        "    if df[col].isna().sum() > 0:  # Check for missing values\n",
        "        if imputation_method == 'mean':\n",
        "            df[col].fillna(df[col].mean(), inplace=True)  # Replace with mean\n",
        "        elif imputation_method == 'median':\n",
        "            df[col].fillna(df[col].median(), inplace=True)  # Replace with median\n",
        "        elif imputation_method == 'mode':\n",
        "            df[col].fillna(df[col].mode()[0], inplace=True)  # Replace with mode"
      ],
      "metadata": {
        "id": "EcK8OuX_sZkJ"
      },
      "execution_count": 23,
      "outputs": []
    },
    {
      "cell_type": "code",
      "source": [
        "print(\"\\nDataset After Handling Missing Values:\")\n",
        "print(df.head())"
      ],
      "metadata": {
        "colab": {
          "base_uri": "https://localhost:8080/"
        },
        "id": "Ujn4n3Z1tFZb",
        "outputId": "e8738e98-c6e2-441d-8131-615d200dee99"
      },
      "execution_count": 24,
      "outputs": [
        {
          "output_type": "stream",
          "name": "stdout",
          "text": [
            "\n",
            "Dataset After Handling Missing Values:\n",
            "   Pregnancies  Glucose  BloodPressure  SkinThickness  Insulin   BMI  \\\n",
            "0            6    148.0           72.0       35.00000        0  33.6   \n",
            "1            1     85.0           66.0       29.00000        0  26.6   \n",
            "2            8    183.0           64.0       29.15342        0  23.3   \n",
            "3            1     89.0           66.0       23.00000       94  28.1   \n",
            "4            0    137.0           40.0       35.00000      168  43.1   \n",
            "\n",
            "   DiabetesPedigreeFunction  Age  Outcome  \n",
            "0                     0.627   50        1  \n",
            "1                     0.351   31        0  \n",
            "2                     0.672   32        1  \n",
            "3                     0.167   21        0  \n",
            "4                     2.288   33        1  \n"
          ]
        }
      ]
    },
    {
      "cell_type": "code",
      "source": [
        "from sklearn.preprocessing import MinMaxScaler\n",
        "scaling_method = 'min-max'\n",
        "if scaling_method == 'min-max':\n",
        "    scaler = MinMaxScaler()\n",
        "elif scaling_method == 'standard':\n",
        "    scaler = StandardScaler()"
      ],
      "metadata": {
        "id": "oKz3s_TjtV4r"
      },
      "execution_count": 47,
      "outputs": []
    },
    {
      "cell_type": "code",
      "source": [
        "target_column = 'Outcome'\n",
        "features = df.drop(columns=[target_column]) if target_column in df.columns else df\n",
        "scaled_features = pd.DataFrame(scaler.fit_transform(features), columns=features.columns)"
      ],
      "metadata": {
        "id": "datgAUMDvFky"
      },
      "execution_count": 49,
      "outputs": []
    },
    {
      "cell_type": "code",
      "source": [
        "if target_column in df.columns:\n",
        "    df[target_column] = df[target_column]"
      ],
      "metadata": {
        "id": "P9f2vEjct-2q"
      },
      "execution_count": 36,
      "outputs": []
    },
    {
      "cell_type": "code",
      "source": [
        "print(\"\\nProcessed Dataset After Scaling:\")\n",
        "print(df.head())"
      ],
      "metadata": {
        "colab": {
          "base_uri": "https://localhost:8080/"
        },
        "id": "bVSQtKk7uFWZ",
        "outputId": "df392488-c5cc-4823-ea7a-b7c74562c8b1"
      },
      "execution_count": 32,
      "outputs": [
        {
          "output_type": "stream",
          "name": "stdout",
          "text": [
            "\n",
            "Processed Dataset After Scaling:\n",
            "   Pregnancies  Glucose  BloodPressure  SkinThickness  Insulin   BMI  \\\n",
            "0            6    148.0           72.0       35.00000        0  33.6   \n",
            "1            1     85.0           66.0       29.00000        0  26.6   \n",
            "2            8    183.0           64.0       29.15342        0  23.3   \n",
            "3            1     89.0           66.0       23.00000       94  28.1   \n",
            "4            0    137.0           40.0       35.00000      168  43.1   \n",
            "\n",
            "   DiabetesPedigreeFunction  Age  Outcome  \n",
            "0                     0.627   50        1  \n",
            "1                     0.351   31        0  \n",
            "2                     0.672   32        1  \n",
            "3                     0.167   21        0  \n",
            "4                     2.288   33        1  \n"
          ]
        }
      ]
    }
  ]
}